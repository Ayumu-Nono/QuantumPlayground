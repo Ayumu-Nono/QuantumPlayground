{
 "cells": [
  {
   "cell_type": "markdown",
   "metadata": {},
   "source": [
    "# 001_1ビット量子回路の計算"
   ]
  },
  {
   "cell_type": "code",
   "execution_count": 4,
   "metadata": {},
   "outputs": [
    {
     "name": "stdout",
     "output_type": "stream",
     "text": [
      "Requirement already satisfied: blueqat in /opt/conda/lib/python3.8/site-packages (0.3.18)\r\n",
      "Requirement already satisfied: scipy>=1.1.0 in /opt/conda/lib/python3.8/site-packages (from blueqat) (1.5.3)\r\n",
      "Requirement already satisfied: numpy~=1.12 in /opt/conda/lib/python3.8/site-packages (from blueqat) (1.19.4)\r\n"
     ]
    }
   ],
   "source": [
    "!pip install blueqat"
   ]
  },
  {
   "cell_type": "code",
   "execution_count": 9,
   "metadata": {},
   "outputs": [],
   "source": [
    "from blueqat import Circuit"
   ]
  },
  {
   "cell_type": "markdown",
   "metadata": {},
   "source": [
    "## 量子回路の作成\n",
    "量子コンピュータでは量子ゲートを順番につなげた量子回路を作る。\\\n",
    "Circuitで回路を準備し、その後ろに量子ゲートをつなげる。\\\n",
    "今回はxゲートを0番目の量子ビットにかけてみる。"
   ]
  },
  {
   "cell_type": "code",
   "execution_count": 7,
   "metadata": {},
   "outputs": [
    {
     "data": {
      "text/plain": [
       "Counter({'1': 100})"
      ]
     },
     "execution_count": 7,
     "metadata": {},
     "output_type": "execute_result"
    }
   ],
   "source": [
    "Circuit().x[0].m[:].run(shots=100)"
   ]
  },
  {
   "cell_type": "markdown",
   "metadata": {},
   "source": [
    "xがxゲートを表し、[]のなかに0番目の量子ビットの意味。mで答えを取り出す。\\\n",
    "shotsで取り出す回数を指定できる。\\\n",
    "今回の場合、1という答えが100回でたよってことが出力結果から分かる。"
   ]
  },
  {
   "cell_type": "markdown",
   "metadata": {},
   "source": [
    "### xゲートとは？\n",
    "\n",
    "0番目の量子ビットは0だった。量子ビットは0と1の重ね合わせであり、以下のベクトルで表現する。\n",
    "$$\n",
    "\\left(\n",
    "    \\begin{array}{c}\n",
    "      1 \\\\\n",
    "      0\n",
    "    \\end{array}\n",
    "  \\right),\n",
    "\\left(\n",
    "    \\begin{array}{c}\n",
    "      0 \\\\\n",
    "      1\n",
    "    \\end{array}\n",
    "  \\right)\n",
    "$$\n",
    "\n",
    "Xゲートとは量子ビットを反転させるもので次の行列で表される。\n",
    "$$\n",
    "X = \\left(\n",
    "\\begin{array}{c&c}\n",
    "  0 & 1 \\\\\n",
    "  1 & 0\n",
    "\\end{array}\n",
    "\\right), \n",
    "$$\n",
    "\n",
    "### 測定とは？\n",
    "\n",
    "量子コンピュータでは確率的に0,1が出力される。\\\n",
    "それぞれが測定される確率は$|\\alpha|^2, |\\beta|^2$である。"
   ]
  },
  {
   "cell_type": "code",
   "execution_count": 10,
   "metadata": {},
   "outputs": [
    {
     "data": {
      "text/plain": [
       "array([0.70710678+0.j, 0.70710678+0.j])"
      ]
     },
     "execution_count": 10,
     "metadata": {},
     "output_type": "execute_result"
    }
   ],
   "source": [
    "# 状態ベクトルを出力する\n",
    "Circuit().h[0].run()"
   ]
  },
  {
   "cell_type": "markdown",
   "metadata": {},
   "source": [
    "# 002_2ビット量子回路の計算"
   ]
  },
  {
   "cell_type": "code",
   "execution_count": 1,
   "metadata": {},
   "outputs": [],
   "source": [
    "from blueqat import Circuit"
   ]
  },
  {
   "cell_type": "code",
   "execution_count": 2,
   "metadata": {},
   "outputs": [
    {
     "data": {
      "text/plain": [
       "Counter({'00': 100})"
      ]
     },
     "execution_count": 2,
     "metadata": {},
     "output_type": "execute_result"
    }
   ],
   "source": [
    "Circuit().cx[0, 1].m[:].run(shots=100)"
   ]
  },
  {
   "cell_type": "markdown",
   "metadata": {},
   "source": [
    "CXゲートは「コントロールビット」と「ターゲットビット」を順番に指定する。コントロールビットが1のときだけターゲットビットにXゲーtをかける。\n",
    "\n",
    "今回量子ビットは両方とも0からスタートしてCXゲートがかかった。コントロールビットが0なのでターゲットビットにはなにも起きない。"
   ]
  },
  {
   "cell_type": "code",
   "execution_count": 3,
   "metadata": {},
   "outputs": [
    {
     "data": {
      "text/plain": [
       "Counter({'11': 100})"
      ]
     },
     "execution_count": 3,
     "metadata": {},
     "output_type": "execute_result"
    }
   ],
   "source": [
    "Circuit().x[0].cx[0, 1].m[:].run(shots=100)"
   ]
  },
  {
   "cell_type": "markdown",
   "metadata": {},
   "source": [
    "今度はコントロールビットが1のため（`x[0]`で0番目の量子が1になった）、ターゲットビットにもXゲートがかかり、1番目の量子ビットもXゲートがかかった。"
   ]
  },
  {
   "cell_type": "code",
   "execution_count": 4,
   "metadata": {},
   "outputs": [
    {
     "data": {
      "text/plain": [
       "Counter({'110': 100})"
      ]
     },
     "execution_count": 4,
     "metadata": {},
     "output_type": "execute_result"
    }
   ],
   "source": [
    "Circuit(3).x[0].cx[0,1].m[:].run(shots=100)"
   ]
  },
  {
   "cell_type": "markdown",
   "metadata": {},
   "source": [
    "量子ビットの数を3つにしてやってみることもできる。"
   ]
  },
  {
   "cell_type": "markdown",
   "metadata": {},
   "source": [
    "# 003_量子重ね合わせ"
   ]
  },
  {
   "cell_type": "code",
   "execution_count": 4,
   "metadata": {},
   "outputs": [
    {
     "name": "stdout",
     "output_type": "stream",
     "text": [
      "Collecting blueqat\n",
      "  Downloading blueqat-0.3.18-py3-none-any.whl (58 kB)\n",
      "\u001b[K     |████████████████████████████████| 58 kB 2.3 MB/s eta 0:00:01\n",
      "\u001b[?25hRequirement already satisfied: numpy~=1.12 in /opt/conda/lib/python3.8/site-packages (from blueqat) (1.19.4)\n",
      "Requirement already satisfied: scipy>=1.1.0 in /opt/conda/lib/python3.8/site-packages (from blueqat) (1.5.3)\n",
      "Installing collected packages: blueqat\n",
      "Successfully installed blueqat-0.3.18\n"
     ]
    }
   ],
   "source": [
    "!pip install blueqat\n",
    "from blueqat import Circuit"
   ]
  },
  {
   "cell_type": "code",
   "execution_count": 26,
   "metadata": {},
   "outputs": [
    {
     "data": {
      "text/plain": [
       "Counter({'0': 48, '1': 52})"
      ]
     },
     "execution_count": 26,
     "metadata": {},
     "output_type": "execute_result"
    }
   ],
   "source": [
    "q1 = 0\n",
    "Circuit().h[0].m[:].run(shots=100)"
   ]
  },
  {
   "cell_type": "code",
   "execution_count": 27,
   "metadata": {},
   "outputs": [
    {
     "data": {
      "text/plain": [
       "Counter({'1': 54, '0': 46})"
      ]
     },
     "execution_count": 27,
     "metadata": {},
     "output_type": "execute_result"
    }
   ],
   "source": [
    "Circuit().h[0].z[0].m[:].run(shots=100)"
   ]
  },
  {
   "cell_type": "code",
   "execution_count": 29,
   "metadata": {},
   "outputs": [
    {
     "data": {
      "text/plain": [
       "array([0.70710678+0.j, 0.70710678+0.j])"
      ]
     },
     "execution_count": 29,
     "metadata": {},
     "output_type": "execute_result"
    }
   ],
   "source": [
    "Circuit().h[0].run()"
   ]
  },
  {
   "cell_type": "code",
   "execution_count": 31,
   "metadata": {},
   "outputs": [
    {
     "data": {
      "text/plain": [
       "array([ 0.70710678+0.j, -0.70710678+0.j])"
      ]
     },
     "execution_count": 31,
     "metadata": {},
     "output_type": "execute_result"
    }
   ],
   "source": [
    "Circuit().h[0].z[0].run()"
   ]
  },
  {
   "cell_type": "markdown",
   "metadata": {},
   "source": [
    "重ね合わせの状態にはプラス状態とマイナス状態がある。\\\n",
    "アダマールゲートを0にかけると＋状態になる。ー状態は＋状態にZゲートをかけることで実現できる。\\\n",
    "＋とーの状態は両方とも重ね合わせの状態であるが、詳しくベクトルを見てみると、向きがことなる。"
   ]
  },
  {
   "cell_type": "code",
   "execution_count": 33,
   "metadata": {},
   "outputs": [
    {
     "data": {
      "text/plain": [
       "array([0.+0.j, 1.+0.j])"
      ]
     },
     "execution_count": 33,
     "metadata": {},
     "output_type": "execute_result"
    }
   ],
   "source": [
    "Circuit().x[0].run()"
   ]
  },
  {
   "cell_type": "code",
   "execution_count": null,
   "metadata": {},
   "outputs": [],
   "source": []
  },
  {
   "cell_type": "code",
   "execution_count": null,
   "metadata": {},
   "outputs": [],
   "source": []
  }
 ],
 "metadata": {
  "kernelspec": {
   "display_name": "Python 3",
   "language": "python",
   "name": "python3"
  },
  "language_info": {
   "codemirror_mode": {
    "name": "ipython",
    "version": 3
   },
   "file_extension": ".py",
   "mimetype": "text/x-python",
   "name": "python",
   "nbconvert_exporter": "python",
   "pygments_lexer": "ipython3",
   "version": "3.8.6"
  }
 },
 "nbformat": 4,
 "nbformat_minor": 4
}
