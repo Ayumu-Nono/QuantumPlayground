{
 "cells": [
  {
   "cell_type": "markdown",
   "metadata": {},
   "source": [
    "# 001_1ビット量子回路の計算"
   ]
  },
  {
   "cell_type": "code",
   "execution_count": 4,
   "metadata": {},
   "outputs": [
    {
     "name": "stdout",
     "output_type": "stream",
     "text": [
      "Requirement already satisfied: blueqat in /opt/conda/lib/python3.8/site-packages (0.3.18)\r\n",
      "Requirement already satisfied: scipy>=1.1.0 in /opt/conda/lib/python3.8/site-packages (from blueqat) (1.5.3)\r\n",
      "Requirement already satisfied: numpy~=1.12 in /opt/conda/lib/python3.8/site-packages (from blueqat) (1.19.4)\r\n"
     ]
    }
   ],
   "source": [
    "!pip install blueqat"
   ]
  },
  {
   "cell_type": "code",
   "execution_count": 9,
   "metadata": {},
   "outputs": [],
   "source": [
    "from blueqat import Circuit"
   ]
  },
  {
   "cell_type": "markdown",
   "metadata": {},
   "source": [
    "## 量子回路の作成\n",
    "量子コンピュータでは量子ゲートを順番につなげた量子回路を作る。\\\n",
    "Circuitで回路を準備し、その後ろに量子ゲートをつなげる。\\\n",
    "今回はxゲートを0番目の量子ビットにかけてみる。"
   ]
  },
  {
   "cell_type": "code",
   "execution_count": 7,
   "metadata": {},
   "outputs": [
    {
     "data": {
      "text/plain": [
       "Counter({'1': 100})"
      ]
     },
     "execution_count": 7,
     "metadata": {},
     "output_type": "execute_result"
    }
   ],
   "source": [
    "Circuit().x[0].m[:].run(shots=100)"
   ]
  },
  {
   "cell_type": "markdown",
   "metadata": {},
   "source": [
    "xがxゲートを表し、[]のなかに0番目の量子ビットの意味。mで答えを取り出す。\\\n",
    "shotsで取り出す回数を指定できる。\\\n",
    "今回の場合、1という答えが100回でたよってことが出力結果から分かる。"
   ]
  },
  {
   "cell_type": "markdown",
   "metadata": {},
   "source": [
    "### xゲートとは？\n",
    "\n",
    "0番目の量子ビットは0だった。量子ビットは0と1の重ね合わせであり、以下のベクトルで表現する。\n",
    "$$\n",
    "\\left(\n",
    "    \\begin{array}{c}\n",
    "      1 \\\\\n",
    "      0\n",
    "    \\end{array}\n",
    "  \\right),\n",
    "\\left(\n",
    "    \\begin{array}{c}\n",
    "      0 \\\\\n",
    "      1\n",
    "    \\end{array}\n",
    "  \\right)\n",
    "$$\n",
    "\n",
    "Xゲートとは量子ビットを反転させるもので次の行列で表される。\n",
    "$$\n",
    "X = \\left(\n",
    "\\begin{array}{c&c}\n",
    "  0 & 1 \\\\\n",
    "  1 & 0\n",
    "\\end{array}\n",
    "\\right), \n",
    "$$\n",
    "\n",
    "### 測定とは？\n",
    "\n",
    "量子コンピュータでは確率的に0,1が出力される。\\\n",
    "それぞれが測定される確率は$|\\alpha|^2, |\\beta|^2$である。"
   ]
  },
  {
   "cell_type": "code",
   "execution_count": 10,
   "metadata": {},
   "outputs": [
    {
     "data": {
      "text/plain": [
       "array([0.70710678+0.j, 0.70710678+0.j])"
      ]
     },
     "execution_count": 10,
     "metadata": {},
     "output_type": "execute_result"
    }
   ],
   "source": [
    "# 状態ベクトルを出力する\n",
    "Circuit().h[0].run()"
   ]
  },
  {
   "cell_type": "markdown",
   "metadata": {},
   "source": [
    "# 002"
   ]
  },
  {
   "cell_type": "code",
   "execution_count": null,
   "metadata": {},
   "outputs": [],
   "source": []
  }
 ],
 "metadata": {
  "kernelspec": {
   "display_name": "Python 3",
   "language": "python",
   "name": "python3"
  },
  "language_info": {
   "codemirror_mode": {
    "name": "ipython",
    "version": 3
   },
   "file_extension": ".py",
   "mimetype": "text/x-python",
   "name": "python",
   "nbconvert_exporter": "python",
   "pygments_lexer": "ipython3",
   "version": "3.8.6"
  }
 },
 "nbformat": 4,
 "nbformat_minor": 4
}
